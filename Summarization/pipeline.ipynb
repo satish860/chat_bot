{
 "cells": [
  {
   "cell_type": "code",
   "execution_count": 1,
   "id": "17a83d2d-8bbc-435a-91be-c52b947ea5f1",
   "metadata": {},
   "outputs": [
    {
     "name": "stdout",
     "output_type": "stream",
     "text": [
      "\u001b[33mWARNING: Running pip as the 'root' user can result in broken permissions and conflicting behaviour with the system package manager. It is recommended to use a virtual environment instead: https://pip.pypa.io/warnings/venv\u001b[0m\u001b[33m\n",
      "\u001b[0m"
     ]
    }
   ],
   "source": [
    "! pip install transformers -q"
   ]
  },
  {
   "cell_type": "code",
   "execution_count": 2,
   "id": "28561e38-b38e-4508-b4e3-5c38ba08cafe",
   "metadata": {},
   "outputs": [],
   "source": [
    "text = \"\"\"\n",
    "The Who are an English rock band formed in London in 1964. \n",
    "Their classic lineup consisted of lead singer Roger Daltrey, guitarist and singer Pete Townshend, \n",
    "bass guitarist and singer John Entwistle, and drummer Keith Moon. \n",
    "They are considered one of the most influential rock bands of the 20th century and have sold over 100 million records worldwide. \n",
    "Their contributions to rock music include the development of the Marshall stack, large PA systems, the use of the synthesizer, \n",
    "Entwistle and Moon’s influential playing styles, Townshend’s feedback and power chord guitar technique,\n",
    "and the development of the rock opera. They are cited as an influence by many hard rock, punk rock, and mod bands, \n",
    "and their songs still receive regular exposure.\n",
    "\"\"\""
   ]
  },
  {
   "cell_type": "code",
   "execution_count": 3,
   "id": "2f342239-f37c-432b-9fb7-e83b773bcf55",
   "metadata": {},
   "outputs": [],
   "source": [
    "from transformers import pipeline"
   ]
  },
  {
   "cell_type": "code",
   "execution_count": 4,
   "id": "e7aa8db9-289b-4099-aa23-bc326fd1605d",
   "metadata": {},
   "outputs": [
    {
     "name": "stderr",
     "output_type": "stream",
     "text": [
      "No model was supplied, defaulted to sshleifer/distilbart-cnn-12-6 (https://huggingface.co/sshleifer/distilbart-cnn-12-6)\n"
     ]
    },
    {
     "data": {
      "application/vnd.jupyter.widget-view+json": {
       "model_id": "2d4e9ca23cf840deb920be592494a4b9",
       "version_major": 2,
       "version_minor": 0
      },
      "text/plain": [
       "Downloading:   0%|          | 0.00/1.76k [00:00<?, ?B/s]"
      ]
     },
     "metadata": {},
     "output_type": "display_data"
    },
    {
     "data": {
      "application/vnd.jupyter.widget-view+json": {
       "model_id": "95f3d3b8abd949be9ff7cd4e720f4034",
       "version_major": 2,
       "version_minor": 0
      },
      "text/plain": [
       "Downloading:   0%|          | 0.00/1.14G [00:00<?, ?B/s]"
      ]
     },
     "metadata": {},
     "output_type": "display_data"
    },
    {
     "data": {
      "application/vnd.jupyter.widget-view+json": {
       "model_id": "afa949a6de834d98acb1947da2979b92",
       "version_major": 2,
       "version_minor": 0
      },
      "text/plain": [
       "Downloading:   0%|          | 0.00/26.0 [00:00<?, ?B/s]"
      ]
     },
     "metadata": {},
     "output_type": "display_data"
    },
    {
     "data": {
      "application/vnd.jupyter.widget-view+json": {
       "model_id": "90d26f96aa944ab69d712b6875ef14c3",
       "version_major": 2,
       "version_minor": 0
      },
      "text/plain": [
       "Downloading:   0%|          | 0.00/878k [00:00<?, ?B/s]"
      ]
     },
     "metadata": {},
     "output_type": "display_data"
    },
    {
     "data": {
      "application/vnd.jupyter.widget-view+json": {
       "model_id": "d4e5cf98669647839f3be2da0143afe5",
       "version_major": 2,
       "version_minor": 0
      },
      "text/plain": [
       "Downloading:   0%|          | 0.00/446k [00:00<?, ?B/s]"
      ]
     },
     "metadata": {},
     "output_type": "display_data"
    }
   ],
   "source": [
    "summary = pipeline(\"summarization\")"
   ]
  },
  {
   "cell_type": "code",
   "execution_count": 10,
   "id": "d177d465-700a-4b8f-9c45-39257cb56e75",
   "metadata": {},
   "outputs": [],
   "source": [
    "outputs = summary(text, max_length=45,min_length=5,clean_up_tokenization_spaces=True)"
   ]
  },
  {
   "cell_type": "code",
   "execution_count": 11,
   "id": "43a989c5-0089-4f29-817f-1c1f8fd5e32d",
   "metadata": {},
   "outputs": [
    {
     "data": {
      "text/plain": [
       "' The Who are one of the most influential rock bands of the 20th century. They are cited as an influence by many hard rock, punk rock, and mod bands.'"
      ]
     },
     "execution_count": 11,
     "metadata": {},
     "output_type": "execute_result"
    }
   ],
   "source": [
    "outputs[0][\"summary_text\"]"
   ]
  },
  {
   "cell_type": "code",
   "execution_count": null,
   "id": "21628dce-86a5-44b6-ad31-6231bbdb61f1",
   "metadata": {},
   "outputs": [],
   "source": []
  }
 ],
 "metadata": {
  "kernelspec": {
   "display_name": "Python 3 (ipykernel)",
   "language": "python",
   "name": "python3"
  },
  "language_info": {
   "codemirror_mode": {
    "name": "ipython",
    "version": 3
   },
   "file_extension": ".py",
   "mimetype": "text/x-python",
   "name": "python",
   "nbconvert_exporter": "python",
   "pygments_lexer": "ipython3",
   "version": "3.8.12"
  }
 },
 "nbformat": 4,
 "nbformat_minor": 5
}
