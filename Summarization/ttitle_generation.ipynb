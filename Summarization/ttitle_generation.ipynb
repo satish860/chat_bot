{
 "cells": [
  {
   "cell_type": "code",
   "execution_count": 9,
   "id": "06978c4f-0bbc-445e-8507-601c94cd29db",
   "metadata": {},
   "outputs": [
    {
     "data": {
      "application/vnd.jupyter.widget-view+json": {
       "model_id": "8998642ac36c4b8bb8865919efbe448a",
       "version_major": 2,
       "version_minor": 0
      },
      "text/plain": [
       "Downloading:   0%|          | 0.00/1.32k [00:00<?, ?B/s]"
      ]
     },
     "metadata": {},
     "output_type": "display_data"
    },
    {
     "data": {
      "application/vnd.jupyter.widget-view+json": {
       "model_id": "d92f9fe3bd0743aeabe7bbabfc30883c",
       "version_major": 2,
       "version_minor": 0
      },
      "text/plain": [
       "Downloading:   0%|          | 0.00/773k [00:00<?, ?B/s]"
      ]
     },
     "metadata": {},
     "output_type": "display_data"
    },
    {
     "data": {
      "application/vnd.jupyter.widget-view+json": {
       "model_id": "02d53fa2da4142cda9df98401a080a6f",
       "version_major": 2,
       "version_minor": 0
      },
      "text/plain": [
       "Downloading:   0%|          | 0.00/850M [00:00<?, ?B/s]"
      ]
     },
     "metadata": {},
     "output_type": "display_data"
    }
   ],
   "source": [
    "from transformers import AutoTokenizer, AutoModelForSeq2SeqLM\n",
    "\n",
    "tokenizer = AutoTokenizer.from_pretrained(\"NTUYG/SOTitle-Gen-T5\")\n",
    "\n",
    "model = AutoModelForSeq2SeqLM.from_pretrained(\"NTUYG/SOTitle-Gen-T5\")"
   ]
  },
  {
   "cell_type": "code",
   "execution_count": 10,
   "id": "b9db12d8-0534-43ac-9458-c40a8e26687f",
   "metadata": {},
   "outputs": [],
   "source": [
    "from transformers import pipeline"
   ]
  },
  {
   "cell_type": "code",
   "execution_count": 11,
   "id": "2c553a13-11f0-4b7e-b568-fcc107d86cae",
   "metadata": {},
   "outputs": [],
   "source": [
    "text = \"\"\"\n",
    "The Who are an English rock band formed in London in 1964. \n",
    "Their classic lineup consisted of lead singer Roger Daltrey, guitarist and singer Pete Townshend, \n",
    "bass guitarist and singer John Entwistle, and drummer Keith Moon. \n",
    "They are considered one of the most influential rock bands of the 20th century and have sold over 100 million records worldwide. \n",
    "Their contributions to rock music include the development of the Marshall stack, large PA systems, the use of the synthesizer, \n",
    "Entwistle and Moon’s influential playing styles, Townshend’s feedback and power chord guitar technique,\n",
    "and the development of the rock opera. They are cited as an influence by many hard rock, punk rock, and mod bands, \n",
    "and their songs still receive regular exposure.\n",
    "\"\"\""
   ]
  },
  {
   "cell_type": "code",
   "execution_count": 12,
   "id": "c55db34e-2338-4593-9e77-2df7ec615b83",
   "metadata": {},
   "outputs": [],
   "source": [
    "summary = pipeline(\"summarization\",model=model,tokenizer=tokenizer)"
   ]
  },
  {
   "cell_type": "code",
   "execution_count": 15,
   "id": "eaa98d83-92be-415b-8369-f8721cecd49a",
   "metadata": {},
   "outputs": [
    {
     "name": "stderr",
     "output_type": "stream",
     "text": [
      "Your max_length is set to 200, but you input_length is only 165. You might consider decreasing max_length manually, e.g. summarizer('...', max_length=82)\n"
     ]
    }
   ],
   "source": [
    "outputs = summary(text)"
   ]
  },
  {
   "cell_type": "code",
   "execution_count": 16,
   "id": "78c8e1f6-e879-4bfc-aabc-baab971d1684",
   "metadata": {},
   "outputs": [
    {
     "data": {
      "text/plain": [
       "'The Who are an English rock band formed in London in 1964 . They are considered one of the most influential rock bands of the 20th century and have sold over 100 million records worldwide .'"
      ]
     },
     "execution_count": 16,
     "metadata": {},
     "output_type": "execute_result"
    }
   ],
   "source": [
    "outputs[0][\"summary_text\"]"
   ]
  },
  {
   "cell_type": "code",
   "execution_count": null,
   "id": "22de9b1d-493c-4702-b0ea-455da8dc4ca3",
   "metadata": {},
   "outputs": [],
   "source": []
  }
 ],
 "metadata": {
  "kernelspec": {
   "display_name": "Python 3 (ipykernel)",
   "language": "python",
   "name": "python3"
  },
  "language_info": {
   "codemirror_mode": {
    "name": "ipython",
    "version": 3
   },
   "file_extension": ".py",
   "mimetype": "text/x-python",
   "name": "python",
   "nbconvert_exporter": "python",
   "pygments_lexer": "ipython3",
   "version": "3.8.12"
  }
 },
 "nbformat": 4,
 "nbformat_minor": 5
}
