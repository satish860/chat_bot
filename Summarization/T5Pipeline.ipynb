{
 "cells": [
  {
   "cell_type": "code",
   "execution_count": 2,
   "id": "874bcdca-8a8f-4f07-bc88-202f38dc7654",
   "metadata": {},
   "outputs": [
    {
     "name": "stdout",
     "output_type": "stream",
     "text": [
      "\u001b[33mWARNING: Running pip as the 'root' user can result in broken permissions and conflicting behaviour with the system package manager. It is recommended to use a virtual environment instead: https://pip.pypa.io/warnings/venv\u001b[0m\u001b[33m\n",
      "\u001b[0m"
     ]
    }
   ],
   "source": [
    "! pip install sentencepiece -q"
   ]
  },
  {
   "cell_type": "code",
   "execution_count": 3,
   "id": "b47d5d2a-b484-43c3-a7e7-acba40884d93",
   "metadata": {},
   "outputs": [],
   "source": [
    "from transformers import pipeline,T5ForConditionalGeneration,T5Tokenizer"
   ]
  },
  {
   "cell_type": "code",
   "execution_count": 4,
   "id": "f937170a-1c7b-41d5-81ba-d308502c821c",
   "metadata": {},
   "outputs": [],
   "source": [
    "model = T5ForConditionalGeneration.from_pretrained('t5-small')"
   ]
  },
  {
   "cell_type": "code",
   "execution_count": 5,
   "id": "bd4c4972-f5b7-4e33-9f7a-4d8872d71ba6",
   "metadata": {},
   "outputs": [],
   "source": [
    "tokenizer = T5Tokenizer.from_pretrained('t5-small')"
   ]
  },
  {
   "cell_type": "code",
   "execution_count": 6,
   "id": "74001578-f575-49a3-b37d-133246262d7f",
   "metadata": {},
   "outputs": [],
   "source": [
    "text = \"\"\"\n",
    "The Who are an English rock band formed in London in 1964. \n",
    "Their classic lineup consisted of lead singer Roger Daltrey, guitarist and singer Pete Townshend, \n",
    "bass guitarist and singer John Entwistle, and drummer Keith Moon. \n",
    "They are considered one of the most influential rock bands of the 20th century and have sold over 100 million records worldwide. \n",
    "Their contributions to rock music include the development of the Marshall stack, large PA systems, the use of the synthesizer, \n",
    "Entwistle and Moon’s influential playing styles, Townshend’s feedback and power chord guitar technique,\n",
    "and the development of the rock opera. They are cited as an influence by many hard rock, punk rock, and mod bands, \n",
    "and their songs still receive regular exposure.\n",
    "\"\"\""
   ]
  },
  {
   "cell_type": "code",
   "execution_count": 7,
   "id": "80f3cdd5-33b5-4945-897a-c368e59ca581",
   "metadata": {},
   "outputs": [],
   "source": [
    "summary = pipeline(\"summarization\",model=model,tokenizer=tokenizer)"
   ]
  },
  {
   "cell_type": "code",
   "execution_count": 10,
   "id": "210b70df-048a-463b-9f83-0a2021d2ad1e",
   "metadata": {},
   "outputs": [],
   "source": [
    "outputs = summary(text, max_length=45,min_length=5,clean_up_tokenization_spaces=True)"
   ]
  },
  {
   "cell_type": "code",
   "execution_count": 11,
   "id": "feccbae0-b756-4048-98a5-2727e6811507",
   "metadata": {},
   "outputs": [
    {
     "data": {
      "text/plain": [
       "'the Who are an English rock band formed in 1964. they are considered one of the most influential rock bands of the 20th century. their contributions include the development of the Marshall stack, large PA systems, the'"
      ]
     },
     "execution_count": 11,
     "metadata": {},
     "output_type": "execute_result"
    }
   ],
   "source": [
    "outputs[0][\"summary_text\"]"
   ]
  },
  {
   "cell_type": "code",
   "execution_count": null,
   "id": "76f44e3c-897a-4c1d-a129-455b1991e7c0",
   "metadata": {},
   "outputs": [],
   "source": []
  }
 ],
 "metadata": {
  "kernelspec": {
   "display_name": "Python 3 (ipykernel)",
   "language": "python",
   "name": "python3"
  },
  "language_info": {
   "codemirror_mode": {
    "name": "ipython",
    "version": 3
   },
   "file_extension": ".py",
   "mimetype": "text/x-python",
   "name": "python",
   "nbconvert_exporter": "python",
   "pygments_lexer": "ipython3",
   "version": "3.8.12"
  }
 },
 "nbformat": 4,
 "nbformat_minor": 5
}
