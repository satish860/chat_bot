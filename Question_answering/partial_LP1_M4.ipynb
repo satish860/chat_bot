{
 "cells": [
  {
   "cell_type": "code",
   "execution_count": null,
   "metadata": {
    "id": "Y7Txxl4BEdtf"
   },
   "outputs": [],
   "source": [
    "!pip install pytelegrambotapi\n",
    "\n",
    "!pip install -q transformers\n",
    "\n",
    "!pip install wikipedia"
   ]
  },
  {
   "cell_type": "code",
   "execution_count": null,
   "metadata": {
    "id": "hWo80vTWE7DL"
   },
   "outputs": [],
   "source": [
    "import telebot\n",
    "\n",
    "from transformers import pipeline\n",
    "\n",
    "import wikipedia"
   ]
  },
  {
   "cell_type": "code",
   "execution_count": null,
   "metadata": {
    "id": "hr0I9QRjFDmH"
   },
   "outputs": [],
   "source": [
    "API_TOKEN = 'Your_BOT_Token'\n",
    "bot = telebot.TeleBot(API_TOKEN)\n",
    "talk = 0\n",
    "su = ''\n",
    "nlp_qa = pipeline(???)\n",
    "\n",
    "@bot.message_handler(func=lambda message: True)\n",
    "def answer_the_question(message):\n",
    "    \n",
    "    global talk\n",
    "    global su\n",
    "\n",
    "    if talk == 0:\n",
    "      bot.reply_to(message, 'tell me a subject you wanted to talk about')\n",
    "      talk = 1\n",
    "      return\n",
    "    \n",
    "    if talk == 1:\n",
    "     \n",
    "      results = wikipedia.search(message.text.lower())\n",
    "      summary = wikipedia.summary(results[0])\n",
    "      su = summary\n",
    "      bot.reply_to(message, 'ask me a question about this topic')\n",
    "      talk = 2\n",
    "      return\n",
    "    \n",
    "    if talk == 2:\n",
    "      a = nlp_qa(context=???, question=???)\n",
    "      bot.reply_to(message, list(a.values())[3])\n",
    "      talk = 0\n",
    "      return"
   ]
  },
  {
   "cell_type": "code",
   "execution_count": null,
   "metadata": {
    "id": "fDoPj0rmFGvq"
   },
   "outputs": [],
   "source": [
    "bot.polling()"
   ]
  }
 ],
 "metadata": {
  "colab": {
   "collapsed_sections": [],
   "name": "LP1_M4.ipynb",
   "provenance": []
  },
  "kernelspec": {
   "display_name": "Python 3 (ipykernel)",
   "language": "python",
   "name": "python3"
  },
  "language_info": {
   "codemirror_mode": {
    "name": "ipython",
    "version": 3
   },
   "file_extension": ".py",
   "mimetype": "text/x-python",
   "name": "python",
   "nbconvert_exporter": "python",
   "pygments_lexer": "ipython3",
   "version": "3.8.12"
  }
 },
 "nbformat": 4,
 "nbformat_minor": 4
}
