{
 "cells": [
  {
   "cell_type": "code",
   "execution_count": 1,
   "id": "47d60242-9c3d-45b2-ab2d-6c2130aa993f",
   "metadata": {},
   "outputs": [
    {
     "name": "stderr",
     "output_type": "stream",
     "text": [
      "<frozen importlib._bootstrap>:219: RuntimeWarning: numpy.ufunc size changed, may indicate binary incompatibility. Expected 216 from C header, got 232 from PyObject\n",
      "<frozen importlib._bootstrap>:219: RuntimeWarning: numpy.ufunc size changed, may indicate binary incompatibility. Expected 216 from C header, got 232 from PyObject\n"
     ]
    }
   ],
   "source": [
    "from transformers import pipeline"
   ]
  },
  {
   "cell_type": "code",
   "execution_count": 2,
   "id": "b1b6eb6e-9ef7-4798-99a7-28851770df14",
   "metadata": {},
   "outputs": [
    {
     "data": {
      "application/vnd.jupyter.widget-view+json": {
       "model_id": "850e47a49c6b4948b7bbbdbf6a481e82",
       "version_major": 2,
       "version_minor": 0
      },
      "text/plain": [
       "Downloading:   0%|          | 0.00/465 [00:00<?, ?B/s]"
      ]
     },
     "metadata": {},
     "output_type": "display_data"
    },
    {
     "data": {
      "application/vnd.jupyter.widget-view+json": {
       "model_id": "f18eb73e7e8642fe8efb08c926bcf8fb",
       "version_major": 2,
       "version_minor": 0
      },
      "text/plain": [
       "Downloading:   0%|          | 0.00/413M [00:00<?, ?B/s]"
      ]
     },
     "metadata": {},
     "output_type": "display_data"
    },
    {
     "data": {
      "application/vnd.jupyter.widget-view+json": {
       "model_id": "359b2dd2cdd14224ba4267ea890e98d8",
       "version_major": 2,
       "version_minor": 0
      },
      "text/plain": [
       "Downloading:   0%|          | 0.00/136 [00:00<?, ?B/s]"
      ]
     },
     "metadata": {},
     "output_type": "display_data"
    },
    {
     "data": {
      "application/vnd.jupyter.widget-view+json": {
       "model_id": "a87effed3f934981834b5bf7b9b970d8",
       "version_major": 2,
       "version_minor": 0
      },
      "text/plain": [
       "Downloading:   0%|          | 0.00/208k [00:00<?, ?B/s]"
      ]
     },
     "metadata": {},
     "output_type": "display_data"
    },
    {
     "data": {
      "application/vnd.jupyter.widget-view+json": {
       "model_id": "bed7bf3232b04bbbac4b03dc2b1851f0",
       "version_major": 2,
       "version_minor": 0
      },
      "text/plain": [
       "Downloading:   0%|          | 0.00/112 [00:00<?, ?B/s]"
      ]
     },
     "metadata": {},
     "output_type": "display_data"
    }
   ],
   "source": [
    "qa_model = pipeline(\"question-answering\",model=\"ktrapeznikov/biobert_v1.1_pubmed_squad_v2\")"
   ]
  },
  {
   "cell_type": "code",
   "execution_count": 3,
   "id": "99588e84-93d2-4849-ade5-557f2f5f5f5f",
   "metadata": {},
   "outputs": [],
   "source": [
    "context = \"\"\"\n",
    "Symptoms of COVID-19 are variable, but often include fever, cough, fatigue, breathing difficulties, and loss of smell and taste. \n",
    "Symptoms may begin one to fourteen days after exposure to the virus. \n",
    "At least a third of people who are infected do not develop noticeable symptoms.\n",
    "[9] Of those people who develop noticeable symptoms enough to be classed as patients, \n",
    "most (81%) develop mild to moderate symptoms (up to mild pneumonia), \n",
    "while 14% develop severe symptoms (dyspnea, hypoxia, or more than 50% lung involvement on imaging), \n",
    "and 5% suffer critical symptoms (respiratory failure, shock, or multiorgan dysfunction).\n",
    "[10] Older people are more likely to have severe symptoms. \n",
    "Some people continue to experience a range of effects—known as long COVID—for months after recovery, and damage to organs has been observed.\n",
    "[11] Multi-year studies are underway to further investigate the long-term effects of the disease.\n",
    "\"\"\" "
   ]
  },
  {
   "cell_type": "code",
   "execution_count": 4,
   "id": "62290474-f29a-4750-8766-267357399fd5",
   "metadata": {},
   "outputs": [],
   "source": [
    "question = \"What are the symptoms of COVID-19 ?\""
   ]
  },
  {
   "cell_type": "code",
   "execution_count": 5,
   "id": "1c866a4e-488b-480a-a666-51c6046f02a2",
   "metadata": {},
   "outputs": [
    {
     "data": {
      "text/plain": [
       "{'score': 0.9045342206954956,\n",
       " 'start': 54,\n",
       " 'end': 128,\n",
       " 'answer': 'fever, cough, fatigue, breathing difficulties, and loss of smell and taste'}"
      ]
     },
     "execution_count": 5,
     "metadata": {},
     "output_type": "execute_result"
    }
   ],
   "source": [
    "qa_model(context = context,question = question)"
   ]
  },
  {
   "cell_type": "code",
   "execution_count": null,
   "id": "368208ce-32f8-4359-b5e1-858bba0b51b0",
   "metadata": {},
   "outputs": [],
   "source": []
  }
 ],
 "metadata": {
  "kernelspec": {
   "display_name": "Python 3 (ipykernel)",
   "language": "python",
   "name": "python3"
  },
  "language_info": {
   "codemirror_mode": {
    "name": "ipython",
    "version": 3
   },
   "file_extension": ".py",
   "mimetype": "text/x-python",
   "name": "python",
   "nbconvert_exporter": "python",
   "pygments_lexer": "ipython3",
   "version": "3.8.12"
  }
 },
 "nbformat": 4,
 "nbformat_minor": 5
}
