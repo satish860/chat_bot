{
 "cells": [
  {
   "cell_type": "code",
   "execution_count": 1,
   "id": "f1b65618-255d-4adc-9e3a-b506d22ffba8",
   "metadata": {},
   "outputs": [
    {
     "name": "stdout",
     "output_type": "stream",
     "text": [
      "\u001b[33mWARNING: Running pip as the 'root' user can result in broken permissions and conflicting behaviour with the system package manager. It is recommended to use a virtual environment instead: https://pip.pypa.io/warnings/venv\u001b[0m\u001b[33m\n",
      "\u001b[0m"
     ]
    }
   ],
   "source": [
    "!pip install transformers -q"
   ]
  },
  {
   "cell_type": "code",
   "execution_count": 7,
   "id": "755bf7a4-4eb9-4c5a-b803-f02294429916",
   "metadata": {},
   "outputs": [
    {
     "name": "stderr",
     "output_type": "stream",
     "text": [
      "No model was supplied, defaulted to facebook/bart-large-mnli (https://huggingface.co/facebook/bart-large-mnli)\n"
     ]
    }
   ],
   "source": [
    "from transformers import pipeline\n",
    "intent_classfication = pipeline(\"zero-shot-classification\",device=0)"
   ]
  },
  {
   "cell_type": "code",
   "execution_count": 8,
   "id": "a4b9e44f-ad0b-4c57-a0bb-e7089478d85e",
   "metadata": {},
   "outputs": [],
   "source": [
    "labels = [\"choose drinks\", \"order a pizza\", \"inform my address\"]"
   ]
  },
  {
   "cell_type": "code",
   "execution_count": 10,
   "id": "92d92f05-52b5-4b34-a9e4-54b0afdfb9d4",
   "metadata": {},
   "outputs": [
    {
     "data": {
      "text/plain": [
       "{'sequence': 'Do you want my address',\n",
       " 'labels': ['inform my address', 'choose drinks', 'order a pizza'],\n",
       " 'scores': [0.9685627818107605, 0.023265395313501358, 0.008171873167157173]}"
      ]
     },
     "execution_count": 10,
     "metadata": {},
     "output_type": "execute_result"
    }
   ],
   "source": [
    "intent_classfication(\"Do you want my address\",labels)"
   ]
  },
  {
   "cell_type": "code",
   "execution_count": null,
   "id": "3201b2d4-952b-4173-9780-1f00df565d27",
   "metadata": {},
   "outputs": [],
   "source": []
  }
 ],
 "metadata": {
  "kernelspec": {
   "display_name": "Python 3 (ipykernel)",
   "language": "python",
   "name": "python3"
  },
  "language_info": {
   "codemirror_mode": {
    "name": "ipython",
    "version": 3
   },
   "file_extension": ".py",
   "mimetype": "text/x-python",
   "name": "python",
   "nbconvert_exporter": "python",
   "pygments_lexer": "ipython3",
   "version": "3.8.12"
  }
 },
 "nbformat": 4,
 "nbformat_minor": 5
}
