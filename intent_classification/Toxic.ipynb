{
 "cells": [
  {
   "cell_type": "code",
   "execution_count": 15,
   "id": "c93b9bbe-5dbf-4084-8233-cd8576023f2e",
   "metadata": {},
   "outputs": [
    {
     "name": "stdout",
     "output_type": "stream",
     "text": [
      "\u001b[33mWARNING: Running pip as the 'root' user can result in broken permissions and conflicting behaviour with the system package manager. It is recommended to use a virtual environment instead: https://pip.pypa.io/warnings/venv\u001b[0m\u001b[33m\n",
      "\u001b[0mNote: you may need to restart the kernel to use updated packages.\n"
     ]
    }
   ],
   "source": [
    "pip install detoxify -q"
   ]
  },
  {
   "cell_type": "code",
   "execution_count": 10,
   "id": "fd1652d1-b0e3-487a-9c38-a567414de5d3",
   "metadata": {},
   "outputs": [],
   "source": [
    "from detoxify import Detoxify\n",
    "model = Detoxify('original')"
   ]
  },
  {
   "cell_type": "code",
   "execution_count": 12,
   "id": "9c9674d4-f4b2-4a7e-8a7c-1d4864431e33",
   "metadata": {},
   "outputs": [],
   "source": [
    "results = model.predict(\"I Hate you\")"
   ]
  },
  {
   "cell_type": "code",
   "execution_count": 14,
   "id": "3d7e9b07-a8b3-4162-97bf-c0bb70e38185",
   "metadata": {},
   "outputs": [
    {
     "data": {
      "text/plain": [
       "(0.95099854, 'toxicity')"
      ]
     },
     "execution_count": 14,
     "metadata": {},
     "output_type": "execute_result"
    }
   ],
   "source": [
    "max(zip(results.values(), results.keys()))"
   ]
  },
  {
   "cell_type": "code",
   "execution_count": null,
   "id": "6e75b5ae-c443-454a-bdac-080bc3459b0d",
   "metadata": {},
   "outputs": [],
   "source": []
  }
 ],
 "metadata": {
  "kernelspec": {
   "display_name": "Python 3 (ipykernel)",
   "language": "python",
   "name": "python3"
  },
  "language_info": {
   "codemirror_mode": {
    "name": "ipython",
    "version": 3
   },
   "file_extension": ".py",
   "mimetype": "text/x-python",
   "name": "python",
   "nbconvert_exporter": "python",
   "pygments_lexer": "ipython3",
   "version": "3.8.12"
  }
 },
 "nbformat": 4,
 "nbformat_minor": 5
}
