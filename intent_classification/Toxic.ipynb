{
 "cells": [
  {
   "cell_type": "code",
   "execution_count": 15,
   "id": "c93b9bbe-5dbf-4084-8233-cd8576023f2e",
   "metadata": {},
   "outputs": [
    {
     "name": "stdout",
     "output_type": "stream",
     "text": [
      "\u001b[33mWARNING: Running pip as the 'root' user can result in broken permissions and conflicting behaviour with the system package manager. It is recommended to use a virtual environment instead: https://pip.pypa.io/warnings/venv\u001b[0m\u001b[33m\n",
      "\u001b[0mNote: you may need to restart the kernel to use updated packages.\n"
     ]
    }
   ],
   "source": [
    "pip install detoxify -q"
   ]
  },
  {
   "cell_type": "code",
   "execution_count": 10,
   "id": "fd1652d1-b0e3-487a-9c38-a567414de5d3",
   "metadata": {},
   "outputs": [],
   "source": [
    "from detoxify import Detoxify\n",
    "model = Detoxify('original')"
   ]
  },
  {
   "cell_type": "code",
   "execution_count": 39,
   "id": "9c9674d4-f4b2-4a7e-8a7c-1d4864431e33",
   "metadata": {},
   "outputs": [],
   "source": [
    "results = model.predict(\"I love you\")"
   ]
  },
  {
   "cell_type": "code",
   "execution_count": 40,
   "id": "a536b3b2-46b6-4c9d-b199-36fa14e765a5",
   "metadata": {},
   "outputs": [
    {
     "data": {
      "text/plain": [
       "{'toxicity': 0.0009022769,\n",
       " 'severe_toxicity': 0.000120298915,\n",
       " 'obscene': 0.00018566656,\n",
       " 'threat': 0.00016069776,\n",
       " 'insult': 0.00017345663,\n",
       " 'identity_attack': 0.00015682526}"
      ]
     },
     "execution_count": 40,
     "metadata": {},
     "output_type": "execute_result"
    }
   ],
   "source": [
    "results"
   ]
  },
  {
   "cell_type": "code",
   "execution_count": 41,
   "id": "3d7e9b07-a8b3-4162-97bf-c0bb70e38185",
   "metadata": {},
   "outputs": [
    {
     "name": "stdout",
     "output_type": "stream",
     "text": [
      "This message doesnt look as toxic\n"
     ]
    }
   ],
   "source": [
    "if (max(zip(results.values(), results.keys()))[0] * 100) > 50:\n",
    "    print(\"I Consider this message as toxic\")\n",
    "else:\n",
    "   print(\"This message doesnt look as toxic\")"
   ]
  },
  {
   "cell_type": "code",
   "execution_count": 25,
   "id": "6e75b5ae-c443-454a-bdac-080bc3459b0d",
   "metadata": {},
   "outputs": [
    {
     "ename": "TypeError",
     "evalue": "must be real number, not dict_values",
     "output_type": "error",
     "traceback": [
      "\u001b[0;31m---------------------------------------------------------------------------\u001b[0m",
      "\u001b[0;31mTypeError\u001b[0m                                 Traceback (most recent call last)",
      "Input \u001b[0;32mIn [25]\u001b[0m, in \u001b[0;36m<module>\u001b[0;34m\u001b[0m\n\u001b[1;32m      1\u001b[0m \u001b[38;5;28;01mimport\u001b[39;00m \u001b[38;5;21;01mtorch\u001b[39;00m\n\u001b[0;32m----> 2\u001b[0m \u001b[43mtorch\u001b[49m\u001b[38;5;241;43m.\u001b[39;49m\u001b[43mtensor\u001b[49m\u001b[43m(\u001b[49m\u001b[43mresults\u001b[49m\u001b[38;5;241;43m.\u001b[39;49m\u001b[43mvalues\u001b[49m\u001b[43m(\u001b[49m\u001b[43m)\u001b[49m\u001b[43m,\u001b[49m\u001b[43mdtype\u001b[49m\u001b[38;5;241;43m=\u001b[39;49m\u001b[43mtorch\u001b[49m\u001b[38;5;241;43m.\u001b[39;49m\u001b[43mfloat\u001b[49m\u001b[43m)\u001b[49m\n",
      "\u001b[0;31mTypeError\u001b[0m: must be real number, not dict_values"
     ]
    }
   ],
   "source": []
  },
  {
   "cell_type": "code",
   "execution_count": null,
   "id": "023eb88b-3c00-4773-a78e-51d3051cf4e2",
   "metadata": {},
   "outputs": [],
   "source": []
  }
 ],
 "metadata": {
  "kernelspec": {
   "display_name": "Python 3 (ipykernel)",
   "language": "python",
   "name": "python3"
  },
  "language_info": {
   "codemirror_mode": {
    "name": "ipython",
    "version": 3
   },
   "file_extension": ".py",
   "mimetype": "text/x-python",
   "name": "python",
   "nbconvert_exporter": "python",
   "pygments_lexer": "ipython3",
   "version": "3.8.12"
  }
 },
 "nbformat": 4,
 "nbformat_minor": 5
}
