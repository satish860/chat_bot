{
 "cells": [
  {
   "cell_type": "code",
   "execution_count": 1,
   "id": "99cb1ba5-123e-4342-9730-6bea447ed714",
   "metadata": {},
   "outputs": [
    {
     "name": "stdout",
     "output_type": "stream",
     "text": [
      "\u001b[33mWARNING: Running pip as the 'root' user can result in broken permissions and conflicting behaviour with the system package manager. It is recommended to use a virtual environment instead: https://pip.pypa.io/warnings/venv\u001b[0m\u001b[33m\n",
      "\u001b[0m"
     ]
    }
   ],
   "source": [
    "! pip install dl-translate -q"
   ]
  },
  {
   "cell_type": "code",
   "execution_count": 3,
   "id": "a254fd36-969d-4fcc-9316-37c6d452641f",
   "metadata": {},
   "outputs": [
    {
     "data": {
      "application/vnd.jupyter.widget-view+json": {
       "model_id": "4a8146c8c39b40c5b611452fbce03413",
       "version_major": 2,
       "version_minor": 0
      },
      "text/plain": [
       "Downloading:   0%|          | 0.00/3.54M [00:00<?, ?B/s]"
      ]
     },
     "metadata": {},
     "output_type": "display_data"
    },
    {
     "data": {
      "application/vnd.jupyter.widget-view+json": {
       "model_id": "39c0f9717b9a47c5a27b555c557b41db",
       "version_major": 2,
       "version_minor": 0
      },
      "text/plain": [
       "Downloading:   0%|          | 0.00/2.31M [00:00<?, ?B/s]"
      ]
     },
     "metadata": {},
     "output_type": "display_data"
    },
    {
     "data": {
      "application/vnd.jupyter.widget-view+json": {
       "model_id": "208c89c6e9b740139257876842606a25",
       "version_major": 2,
       "version_minor": 0
      },
      "text/plain": [
       "Downloading:   0%|          | 0.00/272 [00:00<?, ?B/s]"
      ]
     },
     "metadata": {},
     "output_type": "display_data"
    },
    {
     "data": {
      "application/vnd.jupyter.widget-view+json": {
       "model_id": "20c7cbfc55e34c8995fce4d4d8a3a913",
       "version_major": 2,
       "version_minor": 0
      },
      "text/plain": [
       "Downloading:   0%|          | 0.00/1.11k [00:00<?, ?B/s]"
      ]
     },
     "metadata": {},
     "output_type": "display_data"
    },
    {
     "data": {
      "application/vnd.jupyter.widget-view+json": {
       "model_id": "18e5dff9b72e4c95a632505691860d05",
       "version_major": 2,
       "version_minor": 0
      },
      "text/plain": [
       "Downloading:   0%|          | 0.00/908 [00:00<?, ?B/s]"
      ]
     },
     "metadata": {},
     "output_type": "display_data"
    },
    {
     "data": {
      "application/vnd.jupyter.widget-view+json": {
       "model_id": "a407fd555302409d8e1c5ff4ba5efd47",
       "version_major": 2,
       "version_minor": 0
      },
      "text/plain": [
       "Downloading:   0%|          | 0.00/1.80G [00:00<?, ?B/s]"
      ]
     },
     "metadata": {},
     "output_type": "display_data"
    }
   ],
   "source": [
    "import dl_translate as dlt\n",
    "mt = dlt.TranslationModel()"
   ]
  },
  {
   "cell_type": "code",
   "execution_count": 4,
   "id": "4dcedd2a-87a3-44ed-9b8f-6c1132d7feea",
   "metadata": {},
   "outputs": [
    {
     "data": {
      "text/plain": [
       "('Afrikaans',\n",
       " 'Amharic',\n",
       " 'Arabic',\n",
       " 'Asturian',\n",
       " 'Azerbaijani',\n",
       " 'Bashkir',\n",
       " 'Belarusian',\n",
       " 'Bulgarian',\n",
       " 'Bengali',\n",
       " 'Breton',\n",
       " 'Bosnian',\n",
       " 'Catalan',\n",
       " 'Valencian',\n",
       " 'Cebuano',\n",
       " 'Czech',\n",
       " 'Welsh',\n",
       " 'Danish',\n",
       " 'German',\n",
       " 'Greek',\n",
       " 'English',\n",
       " 'Spanish',\n",
       " 'Estonian',\n",
       " 'Persian',\n",
       " 'Fulah',\n",
       " 'Finnish',\n",
       " 'French',\n",
       " 'Western Frisian',\n",
       " 'Irish',\n",
       " 'Gaelic',\n",
       " 'Scottish Gaelic',\n",
       " 'Galician',\n",
       " 'Gujarati',\n",
       " 'Hausa',\n",
       " 'Hebrew',\n",
       " 'Hindi',\n",
       " 'Croatian',\n",
       " 'Haitian',\n",
       " 'Haitian Creole',\n",
       " 'Hungarian',\n",
       " 'Armenian',\n",
       " 'Indonesian',\n",
       " 'Igbo',\n",
       " 'Iloko',\n",
       " 'Icelandic',\n",
       " 'Italian',\n",
       " 'Japanese',\n",
       " 'Javanese',\n",
       " 'Georgian',\n",
       " 'Kazakh',\n",
       " 'Khmer',\n",
       " 'Central Khmer',\n",
       " 'Kannada',\n",
       " 'Korean',\n",
       " 'Luxembourgish',\n",
       " 'Letzeburgesch',\n",
       " 'Ganda',\n",
       " 'Lingala',\n",
       " 'Lao',\n",
       " 'Lithuanian',\n",
       " 'Latvian',\n",
       " 'Malagasy',\n",
       " 'Macedonian',\n",
       " 'Malayalam',\n",
       " 'Mongolian',\n",
       " 'Marathi',\n",
       " 'Malay',\n",
       " 'Burmese',\n",
       " 'Nepali',\n",
       " 'Dutch',\n",
       " 'Flemish',\n",
       " 'Norwegian',\n",
       " 'Northern Sotho',\n",
       " 'Occitan',\n",
       " 'Oriya',\n",
       " 'Panjabi',\n",
       " 'Punjabi',\n",
       " 'Polish',\n",
       " 'Pushto',\n",
       " 'Pashto',\n",
       " 'Portuguese',\n",
       " 'Romanian',\n",
       " 'Moldavian',\n",
       " 'Moldovan',\n",
       " 'Russian',\n",
       " 'Sindhi',\n",
       " 'Sinhala',\n",
       " 'Sinhalese',\n",
       " 'Slovak',\n",
       " 'Slovenian',\n",
       " 'Somali',\n",
       " 'Albanian',\n",
       " 'Serbian',\n",
       " 'Swati',\n",
       " 'Sundanese',\n",
       " 'Swedish',\n",
       " 'Swahili',\n",
       " 'Tamil',\n",
       " 'Thai',\n",
       " 'Tagalog',\n",
       " 'Tswana',\n",
       " 'Turkish',\n",
       " 'Ukrainian',\n",
       " 'Urdu',\n",
       " 'Uzbek',\n",
       " 'Vietnamese',\n",
       " 'Wolof',\n",
       " 'Xhosa',\n",
       " 'Yiddish',\n",
       " 'Yoruba',\n",
       " 'Chinese',\n",
       " 'Zulu')"
      ]
     },
     "execution_count": 4,
     "metadata": {},
     "output_type": "execute_result"
    }
   ],
   "source": [
    "mt.available_languages()"
   ]
  },
  {
   "cell_type": "code",
   "execution_count": 7,
   "id": "f3556fab-ee4e-4a14-8cc8-ba215cb2baa6",
   "metadata": {},
   "outputs": [
    {
     "data": {
      "text/plain": [
       "'நீ எவ்வளவு வயது?'"
      ]
     },
     "execution_count": 7,
     "metadata": {},
     "output_type": "execute_result"
    }
   ],
   "source": [
    "text_hi = \"How old are you?\"\n",
    "mt.translate(text_hi, source=dlt.lang.ENGLISH, target=dlt.lang.TAMIL)"
   ]
  },
  {
   "cell_type": "code",
   "execution_count": null,
   "id": "2682804d-744c-4e42-841f-9bbdb1430ff3",
   "metadata": {},
   "outputs": [],
   "source": []
  }
 ],
 "metadata": {
  "kernelspec": {
   "display_name": "Python 3 (ipykernel)",
   "language": "python",
   "name": "python3"
  },
  "language_info": {
   "codemirror_mode": {
    "name": "ipython",
    "version": 3
   },
   "file_extension": ".py",
   "mimetype": "text/x-python",
   "name": "python",
   "nbconvert_exporter": "python",
   "pygments_lexer": "ipython3",
   "version": "3.8.12"
  }
 },
 "nbformat": 4,
 "nbformat_minor": 5
}
