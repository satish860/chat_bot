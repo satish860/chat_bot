{
 "cells": [
  {
   "cell_type": "code",
   "execution_count": 1,
   "id": "2f3dd01f-5960-4e39-a86d-3fab5391205d",
   "metadata": {},
   "outputs": [],
   "source": [
    "from transformers import pipeline"
   ]
  },
  {
   "cell_type": "code",
   "execution_count": 2,
   "id": "0a71558f-0e58-4828-8338-c3e7da291c07",
   "metadata": {},
   "outputs": [
    {
     "name": "stderr",
     "output_type": "stream",
     "text": [
      "No model was supplied, defaulted to facebook/bart-large-mnli (https://huggingface.co/facebook/bart-large-mnli)\n"
     ]
    }
   ],
   "source": [
    "classification = pipeline(\"zero-shot-classification\")"
   ]
  },
  {
   "cell_type": "code",
   "execution_count": 3,
   "id": "4d368170-4277-4a0f-abdd-27fed49d9ace",
   "metadata": {},
   "outputs": [],
   "source": [
    "labels = [\"french\", \"portuguese\"]"
   ]
  },
  {
   "cell_type": "code",
   "execution_count": 4,
   "id": "577b194b-3e22-4af8-bb84-88a88b9ecd68",
   "metadata": {},
   "outputs": [
    {
     "data": {
      "text/plain": [
       "{'sequence': 'Olá amigos',\n",
       " 'labels': ['portuguese', 'french'],\n",
       " 'scores': [0.752886176109314, 0.24711379408836365]}"
      ]
     },
     "execution_count": 4,
     "metadata": {},
     "output_type": "execute_result"
    }
   ],
   "source": [
    "classification(\"Olá amigos\",labels)"
   ]
  },
  {
   "cell_type": "code",
   "execution_count": null,
   "id": "e6f08de7-e52e-4476-b04a-51cc4e93f7cd",
   "metadata": {},
   "outputs": [],
   "source": []
  }
 ],
 "metadata": {
  "kernelspec": {
   "display_name": "Python 3 (ipykernel)",
   "language": "python",
   "name": "python3"
  },
  "language_info": {
   "codemirror_mode": {
    "name": "ipython",
    "version": 3
   },
   "file_extension": ".py",
   "mimetype": "text/x-python",
   "name": "python",
   "nbconvert_exporter": "python",
   "pygments_lexer": "ipython3",
   "version": "3.8.12"
  }
 },
 "nbformat": 4,
 "nbformat_minor": 5
}
